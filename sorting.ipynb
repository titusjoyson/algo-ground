{
 "cells": [
  {
   "cell_type": "code",
   "execution_count": 2,
   "metadata": {},
   "outputs": [],
   "source": [
    "from typing import List\n",
    "from utils import print_logs"
   ]
  },
  {
   "cell_type": "code",
   "execution_count": 17,
   "metadata": {},
   "outputs": [
    {
     "name": "stdout",
     "output_type": "stream",
     "text": [
      "1, actual: [-4, 1, 4, 9, 10, 23, 50], expected: [-4, 1, 4, 9, 10, 23, 50] received: [-4, 1, 4, 9, 10, 23, 50] pass: True\n"
     ]
    }
   ],
   "source": [
    "def bubble_sort(list_items: List[int], asc: bool) -> List[int]:\n",
    "    \"\"\"\n",
    "    Repeatedly comparing pairs of adjacent elements and then swapping their positions\n",
    "    if they exist in the wrong order.\n",
    "\n",
    "    After each pass through the list, the largest (or smallest) element \"bubbles up\" to its correct position (end or beginning).\n",
    "    This means that after the first pass, the last element is in its correct position,\n",
    "    after the second pass, the second-to-last element is in its correct position,\n",
    "    and so on.\n",
    "\n",
    "    Time Complexity:\n",
    "    Best Case: O(n) - This occurs when the array is already sorted.\n",
    "    Average Case: O(n^2) - This occurs when the elements are in random order.\n",
    "    Worst Case: O(n^2) - This occurs when the array is sorted in reverse order.\n",
    "\n",
    "    Space Complexity: O(1)\n",
    "    \"\"\"\n",
    "    n = len(list_items)\n",
    "    for i in range(n):\n",
    "        for j in range(0, n - i - 1):\n",
    "            # (n-i-1) is for ignoring comparisons of elements which have already been compared in earlier iterations\n",
    "            if (\n",
    "                list_items[j] > list_items[j + 1]\n",
    "                if asc\n",
    "                else list_items[j] < list_items[j + 1]\n",
    "            ):\n",
    "                list_items[j], list_items[j + 1] = list_items[j + 1], list_items[j]\n",
    "    return list_items\n",
    "\n",
    "\n",
    "print_logs(bubble_sort)"
   ]
  },
  {
   "cell_type": "markdown",
   "metadata": {},
   "source": [
    "![Bubble Sort](img/bubble-sort.png?dd=1)"
   ]
  },
  {
   "cell_type": "code",
   "execution_count": 4,
   "metadata": {},
   "outputs": [
    {
     "name": "stdout",
     "output_type": "stream",
     "text": [
      "1, actual: [-4, 1, 4, 9, 10, 23, 50], expected: [-4, 1, 4, 9, 10, 23, 50] received: [-4, 1, 4, 9, 10, 23, 50] pass: True\n"
     ]
    }
   ],
   "source": [
    "def selection_sort(list_items: List[int], asc: bool) -> List[int]:\n",
    "    \"\"\"\n",
    "    The Selection sort algorithm is based on the idea of finding the minimum or maximum element\n",
    "    in an unsorted array and then putting it in its correct position in a sorted array.\n",
    "\n",
    "    Time Complexity:\n",
    "    Best Case: O(n^2) - Even if the array is already sorted, Selection Sort still performs n*(n-1)/2 comparisons.\n",
    "    Average Case: O(n^2) - The algorithm always performs n*(n-1)/2 comparisons regardless of the initial order of elements.\n",
    "    Worst Case: O(n^2) - Similar to the average case, the number of comparisons remains the same.\n",
    "    \n",
    "    Space Complexity:\n",
    "    O(1) - Selection Sort is an in-place sorting algorithm, meaning it requires only a constant amount of additional memory space for variables.\n",
    "    \"\"\"\n",
    "    n = len(list_items)\n",
    "    for i in range(n):\n",
    "        selection_idx = i\n",
    "        for y in range(i, n):\n",
    "            if list_items[selection_idx] > list_items[y] if asc else list_items[selection_idx] < list_items[y]:\n",
    "                selection_idx = y\n",
    "\n",
    "        list_items[i], list_items[selection_idx] = (\n",
    "            list_items[selection_idx],\n",
    "            list_items[i],\n",
    "        )\n",
    "    return list_items\n",
    "\n",
    "print_logs(selection_sort)"
   ]
  },
  {
   "cell_type": "markdown",
   "metadata": {},
   "source": [
    "![Selection Sort](img/selection-sort.png)"
   ]
  },
  {
   "cell_type": "code",
   "execution_count": null,
   "metadata": {},
   "outputs": [
    {
     "name": "stdout",
     "output_type": "stream",
     "text": [
      "1, actual: [-4, 1, 4, 9, 10, 23, 50], expected: [-4, 1, 4, 9, 10, 23, 50] received: [-4, 1, 4, 9, 10, 23, 50] pass: True\n"
     ]
    }
   ],
   "source": [
    "def insertion_sort(list_items: List[int], asc: bool) -> List[int]:\n",
    "    \"\"\"\n",
    "    Insertion sort is based on the idea of consuming one element from unsorted array and \n",
    "    inserting it at the correct position in the sorted array. This will result into increasing \n",
    "    the length of the sorted array by one and decreasing the length of unsorted array by one after each iteration.\n",
    "\n",
    "    1. Outer Loop: \n",
    "        - The outer loop iterates over each element in the array starting from the second element.\n",
    "        - the first element is considered a sorted\n",
    "    2. Key Element: The current element is stored in the variable `key`.\n",
    "    3. Inner Loop: The inner loop compares the `key` with the elements before it and shifts elements that are greater than the `key` one position to the right.\n",
    "    4. Insertion: Once the correct position for the `key` is found, it is inserted into the array.\n",
    "\n",
    "    Note:\n",
    "    - The left side of the array is considered sorted.\n",
    "    - Iterate through the right side.\n",
    "    - Compare each value with the values on the left side, starting from the right end of the sorted section.\n",
    "    - For each comparison, move the current compared element from the left to its next position (left + 1).\n",
    "    - The insertion can be done by shifting the current value to its right on each iteration\n",
    "\n",
    "    Time Complexity:\n",
    "    Best Case: O(n) - This occurs when the array is already sorted. The inner loop only runs once for each element. \n",
    "    Average Case: O(n^2) - This happens when the elements are in random order. On average, each element is compared with half of the already sorted elements.\n",
    "    Worst Case: O(n^2) - This occurs when the array is sorted in reverse order. Each element has to be compared with all the previously sorted elements.\n",
    "\n",
    "    Space Complexity: O(1) - Insertion sort is an in-place sorting algorithm, meaning it requires a constant amount of additional memory space regardless of the input size.\n",
    "    \"\"\"\n",
    "    for i in range(1, len(list_items)):\n",
    "        key = list_items[i]\n",
    "        j = i - 1\n",
    "        # Move elements of arr[0..i-1], that are greater than key,\n",
    "        # to one position ahead of their current position\n",
    "        while j >= 0 and key < list_items[j]:\n",
    "            list_items[j + 1] = list_items[j]\n",
    "            j -= 1\n",
    "        list_items[j + 1] = key\n",
    "    return list_items\n",
    "\n",
    "print_logs(insertion_sort)"
   ]
  },
  {
   "cell_type": "markdown",
   "metadata": {},
   "source": [
    "![Insertion Sort](img/insertion-sort.png)"
   ]
  },
  {
   "cell_type": "code",
   "execution_count": 4,
   "metadata": {},
   "outputs": [
    {
     "name": "stdout",
     "output_type": "stream",
     "text": [
      "[-4, 1, 4, 9, 10, 23, 50]\n",
      "1, actual: [-4, 1, 4, 9, 10, 23, 50], expected: [-4, 1, 4, 9, 10, 23, 50] received: [-4, 1, 4, 9, 10, 23, 50] pass: True\n"
     ]
    }
   ],
   "source": [
    "def merge_sort(arr: List[int], asc: bool = True) -> List[int]:\n",
    "    \"\"\"\n",
    "    Merge sort is a divide and conquer algorithm. It is based on the idea of dividing the unsorted array into several sub-array \n",
    "    until each sub-array consists of a single element and merging those sub-array in such a way that results into a sorted array.\n",
    "    \n",
    "    Note:\n",
    "    - Recursive Algorithm\n",
    "    - The merge sort algorithm involves two steps: divide and conquer.\n",
    "    - The array is divided into two halves until each subarray contains a single element.\n",
    "        - The smallest leaf sub array (left or right) will be sorted by default since the smallest will only have 1 element in array\n",
    "    We do a 2 pointer problem\n",
    "        - if both left and right array have value, then compare p1 with p2 and update array\n",
    "        - We will have leftover array in left or right array, we will update the array with the leftover array\n",
    "    - The subarrays are then merged back together in a sorted manner.\n",
    "\n",
    "    Time Complexity: O(n\\log n)\n",
    "\n",
    "    Merge sort has a time complexity of O(n\\log n) in all cases (best, average, and worst).\n",
    "\n",
    "    1. Divide Step: The array is divided into two halves, which takes O(\\log n) \n",
    "       time because the array is repeatedly split in half until each subarray contains a single element.\n",
    "    2. Merge Step: Merging two halves takes linear time, i.e., O(n), \n",
    "       because each element is compared and placed into the sorted array.\n",
    "\n",
    "    Space Complexity: O(n)\n",
    "\n",
    "    Merge sort requires additional space for the temporary arrays used during the merge process. The space complexity is O(n) because:\n",
    "\n",
    "    1. Temporary Arrays: At each level of recursion, temporary arrays are created to hold the elements of the subarrays being merged.\n",
    "    2. Recursive Call Stack: The depth of the recursion tree is \\log n, \n",
    "       but this does not add to the space complexity since the temporary arrays dominate.\n",
    "    \"\"\"\n",
    "    if len(arr) > 1:\n",
    "        mid = len(arr) // 2  # Find the middle of the array\n",
    "        left_half = arr[:mid]  # Split into two halves\n",
    "        right_half = arr[mid:]\n",
    "\n",
    "        # Recursively sort both halves\n",
    "        merge_sort(left_half)\n",
    "        merge_sort(right_half)\n",
    "\n",
    "        i = j = k = 0\n",
    "\n",
    "        # Merge the sorted halves\n",
    "        while i < len(left_half) and j < len(right_half):\n",
    "            if left_half[i] < right_half[j]:\n",
    "                arr[k] = left_half[i]\n",
    "                i += 1\n",
    "            else:\n",
    "                arr[k] = right_half[j]\n",
    "                j += 1\n",
    "            k += 1\n",
    "\n",
    "        # Check for any remaining elements\n",
    "        while i < len(left_half):\n",
    "            arr[k] = left_half[i]\n",
    "            i += 1\n",
    "            k += 1\n",
    "\n",
    "        while j < len(right_half):\n",
    "            arr[k] = right_half[j]\n",
    "            j += 1\n",
    "            k += 1\n",
    "    \n",
    "    return arr\n",
    "\n",
    "print_logs(merge_sort)"
   ]
  },
  {
   "cell_type": "markdown",
   "metadata": {},
   "source": [
    "![Merge Sort](img/merge_sort.png)"
   ]
  },
  {
   "cell_type": "code",
   "execution_count": null,
   "metadata": {},
   "outputs": [],
   "source": []
  },
  {
   "cell_type": "code",
   "execution_count": 3,
   "metadata": {},
   "outputs": [
    {
     "name": "stdout",
     "output_type": "stream",
     "text": [
      "[-4, 1, 4, 9, 10, 23, 50]\n",
      "1, actual: [-4, 1, 4, 9, 10, 23, 50], expected: [-4, 1, 4, 9, 10, 23, 50] received: [-4, 1, 4, 9, 10, 23, 50] pass: True\n"
     ]
    }
   ],
   "source": [
    "def quick_sort(arr: List[int], asc: bool = True) -> List[int]:\n",
    "    \"\"\"\n",
    "    Quick sort is a divide and conquer algorithm. It works by selecting a 'pivot' element from the array\n",
    "    and partitioning the other elements into two sub-arrays, according to whether they are less than or greater than the pivot.\n",
    "    The sub-arrays are then sorted recursively.\n",
    "\n",
    "    Note:\n",
    "    1. Recursive Algorithm\n",
    "    2. We select a pivot element from the array\n",
    "    3. We partition the array into two sub-arrays, one with elements less than the pivot and the other with elements greater than the pivot\n",
    "        - All elements at the left are smaller\n",
    "        - All elements at the right are larger\n",
    "    4. We recursively sort the sub-arrays\n",
    "    5. Finally, we combine the sorted sub-arrays to get the final sorted array\n",
    "\n",
    "    Time Complexity:\n",
    "    Best Case: O(n\\log n) - This occurs when the pivot divides the array into two nearly equal halves.\n",
    "    Average Case: O(n\\log n) - This occurs when the pivot divides the array into two sub-arrays of roughly equal size.\n",
    "    Worst Case: O(n^2) - This occurs when the pivot is the smallest or largest element, resulting in unbalanced partitions.\n",
    "\n",
    "    Space Complexity: O(\\log n) - This is the space complexity for the recursive call stack.\n",
    "\n",
    "    Parameters:\n",
    "    arr (List[int]): The list of integers to be sorted.\n",
    "    asc (bool): If True, the list is sorted in ascending order. If False, in descending order.\n",
    "\n",
    "    Returns:\n",
    "    List[int]: The sorted list.\n",
    "    \"\"\"\n",
    "    # Simpler python version\n",
    "    # if len(arr) <= 1:\n",
    "    #     return arr\n",
    "    # else:\n",
    "    #     pivot = arr[len(arr) // 2]\n",
    "    #     left = [x for x in arr if x < pivot] if asc else [x for x in arr if x > pivot]\n",
    "    #     middle = [x for x in arr if x == pivot]\n",
    "    #     right = [x for x in arr if x > pivot] if asc else [x for x in arr if x < pivot]\n",
    "    #     return quick_sort(left, asc) + middle + quick_sort(right, asc)\n",
    "\n",
    "    # Actual implementation\n",
    "    # high and low are indexes\n",
    "    def partition(arr: List[int], low: int, high: int, asc: bool) -> int:\n",
    "        pivot = arr[low]\n",
    "        i = low + 1\n",
    "        for j in range(low + 1, high + 1):\n",
    "            if (arr[j] < pivot if asc else arr[j] > pivot):\n",
    "                arr[i], arr[j] = arr[j], arr[i]\n",
    "                i += 1\n",
    "        arr[low], arr[i - 1] = arr[i - 1], arr[low]\n",
    "        return i - 1\n",
    "\n",
    "    def quick_sort_recursive(arr: List[int], low: int, high: int, asc: bool):\n",
    "        if low < high:\n",
    "            piv_pos = partition(arr, low, high, asc)\n",
    "            quick_sort_recursive(arr, low, piv_pos - 1, asc)\n",
    "            quick_sort_recursive(arr, piv_pos + 1, high, asc)\n",
    "\n",
    "    quick_sort_recursive(arr, 0, len(arr) - 1, asc)\n",
    "    return arr\n",
    "\n",
    "print_logs(quick_sort)"
   ]
  },
  {
   "cell_type": "code",
   "execution_count": null,
   "metadata": {},
   "outputs": [],
   "source": []
  }
 ],
 "metadata": {
  "kernelspec": {
   "display_name": "python-practice-env",
   "language": "python",
   "name": "python-practice-env"
  },
  "language_info": {
   "codemirror_mode": {
    "name": "ipython",
    "version": 3
   },
   "file_extension": ".py",
   "mimetype": "text/x-python",
   "name": "python",
   "nbconvert_exporter": "python",
   "pygments_lexer": "ipython3",
   "version": "3.10.8"
  }
 },
 "nbformat": 4,
 "nbformat_minor": 2
}
